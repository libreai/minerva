{
 "cells": [
  {
   "cell_type": "code",
   "execution_count": 318,
   "metadata": {
    "collapsed": true
   },
   "outputs": [],
   "source": [
    "import math"
   ]
  },
  {
   "cell_type": "code",
   "execution_count": 319,
   "metadata": {
    "collapsed": true
   },
   "outputs": [],
   "source": [
    "class Node:\n",
    "    name = \"\"\n",
    "    group = \"\"\n",
    "    \n",
    "    def __init__(self, name, group):\n",
    "        self.name = name\n",
    "        self.group = group\n",
    "        \n",
    "    def to_map(self):\n",
    "        return {\"name\": self.name, \"group\": self.group}\n",
    "        \n",
    "    def to_json_string(self):\n",
    "        return \"{\\\"name\\\":\\\"%s\\\", \\\"group\\\":%d}\"%(self.name, self.group)"
   ]
  },
  {
   "cell_type": "code",
   "execution_count": 320,
   "metadata": {
    "collapsed": true
   },
   "outputs": [],
   "source": [
    "class Link:\n",
    "    source = 0\n",
    "    target = 0\n",
    "    value = 1\n",
    "    \n",
    "    def __init__(self, source, target, value):\n",
    "        self.source = source\n",
    "        self.target = target\n",
    "        self.value = value\n",
    "        \n",
    "    def to_map(self):\n",
    "        return {\"source\": self.source, \"target\": self.target, \"value\": self.value}\n",
    "        \n",
    "    def to_json_string(self):\n",
    "        return \"{\\\"source\\\":\\\"%s\\\", \\\"target\\\":%d, \\\"value\\\":%d}\"%(self.source, self.target, self.value)"
   ]
  },
  {
   "cell_type": "code",
   "execution_count": 321,
   "metadata": {
    "collapsed": true
   },
   "outputs": [],
   "source": [
    "indexed_risk_tables = eval(\"[(0, 'risk_001_asset_bubbles_in_a_major_economy'), (1, 'risk_002_deflation_in_a_major_economy'), (2, 'risk_003_failure_of_a_major_financial_mechanism_or_institution'), (3, 'risk_004_failure_shortfall_of_critical_infrastructure'), (4, 'risk_005_fiscal_crises_in_key_economies'), (5, 'risk_006_high_structural_unemployment_or_underemployment'), (6, 'risk_007_illicit_trade'), (7, 'risk_008_severe_energy_price_shock'), (8, 'risk_009_unmanageable_inflation'), (9, 'risk_010_extreme_weather_events'), (10, 'risk_011_failure_of_climate_change_mitigation_and_adaptation'), (11, 'risk_012_major_biodiversity_loss_and_ecosystem_collapse'), (12, 'risk_013_man_made_environmental_damage_and_disasters'), (13, 'risk_014_failure_of_national_governance'), (14, 'risk_015_failure_of_regional_or_global_governance'), (15, 'risk_016_interstate_conflict_with_regional_consequences'), (16, 'risk_017_large_scale_terrorist_attacks'), (17, 'risk_018_state_collapse_or_crisis'), (18, 'risk_019_weapons_of_mass_destruction'), (19, 'risk_020_failure_of_urban_planning'), (20, 'risk_021_food_crises'), (21, 'risk_022_large_scale_involuntary_migration'), (22, 'risk_023_profound_social_instability'), (23, 'risk_024_rapid_and_massive_spread_of_infectious_diseases'), (24, 'risk_025_water_crises'), (25, 'risk_026_adverse_consequences_of_technological_advances'), (26, 'risk_027_breakdown_of_critical_information_infrastructure_and_networks_and_cyberattacks'), (27, 'risk_028_massive_incident_of_data_fraud_and_theft')]\")"
   ]
  },
  {
   "cell_type": "code",
   "execution_count": 322,
   "metadata": {
    "collapsed": false
   },
   "outputs": [],
   "source": [
    "#indexed_risk_tables"
   ]
  },
  {
   "cell_type": "code",
   "execution_count": 323,
   "metadata": {
    "collapsed": true
   },
   "outputs": [],
   "source": [
    "risk_groups = {\n",
    "    0:\"Economic Risks\",\n",
    "    1:\"Environmental Risks\",\n",
    "    2:\"Geopolitical Risks\",\n",
    "    3:\"Societal Risks\",\n",
    "    4:\"Technological Risks\"\n",
    "    }"
   ]
  },
  {
   "cell_type": "code",
   "execution_count": 324,
   "metadata": {
    "collapsed": false
   },
   "outputs": [],
   "source": [
    "nodes = [\n",
    "    Node(\"Asset bubbles in a major economy\", 0),\n",
    "    Node(\"Deflation in a major economy\", 0),\n",
    "    Node(\"Failure of a major financial mechanism or institution\", 0),\n",
    "    Node(\"Failure/shortfall of critical infrastructure\", 0),\n",
    "    Node(\"Fiscal crises in key economies\", 0),\n",
    "    Node(\"High structural unemployment or underemployment\", 0),\n",
    "    Node(\"Illicit trade\", 0),\n",
    "    Node(\"Severe energy price shock\", 0),\n",
    "    Node(\"Unmanageable inflation\", 0),\n",
    "    #---\n",
    "    Node(\"Extreme weather events\", 1),\n",
    "    Node(\"Failure of climate-change mitigation and adaptation\", 1),\n",
    "    Node(\"Major biodiversity loss and ecosystem collapse\", 1),\n",
    "    Node(\"Man made environmental damage and disasters\", 1),\n",
    "    #---\n",
    "    Node(\"Failure of national governance\", 2),\n",
    "    Node(\"Failure of regional or global governance\", 2),\n",
    "    Node(\"Interstate conflict with regional consequences\", 2),\n",
    "    Node(\"Large scale terrorist attacks\", 2),\n",
    "    Node(\"State collapse or crisis\", 2),\n",
    "    Node(\"Weapons of mass destruction\", 2),\n",
    "    #---\n",
    "    Node(\"Failure of urban planning\", 3),\n",
    "    Node(\"Food crises\", 3),\n",
    "    Node(\"Large scale involuntary migration\", 3),\n",
    "    Node(\"Profound social instability\", 3),\n",
    "    Node(\"Rapid and massive spread of infectious diseases\", 3),\n",
    "    Node(\"Water crises\", 3),\n",
    "    #---\n",
    "    Node(\"Adverse consequences of technological advances\", 4),\n",
    "    Node(\"Breakdown of critical information infrastructure and networks and cyberattacks\", 4),\n",
    "    Node(\"Massive incident of data fraud and theft\", 4)\n",
    "]"
   ]
  },
  {
   "cell_type": "code",
   "execution_count": 325,
   "metadata": {
    "collapsed": true
   },
   "outputs": [],
   "source": [
    "indexed_nodes = zip(range(len(nodes)), nodes)"
   ]
  },
  {
   "cell_type": "code",
   "execution_count": 326,
   "metadata": {
    "collapsed": false
   },
   "outputs": [],
   "source": [
    "link_weights = eval(open(\"./pairwise_weights.txt\").readlines()[0].strip())"
   ]
  },
  {
   "cell_type": "code",
   "execution_count": 327,
   "metadata": {
    "collapsed": true
   },
   "outputs": [],
   "source": [
    "from collections import Counter, defaultdict\n",
    "\n",
    "def topn_links(nodes, link_weights, topn=5, remove_same_group_links=False):\n",
    "    topn_nodes = set()\n",
    "    node2links = defaultdict(Counter)\n",
    "    for ((node_idx_a, node_idx_b), weight) in link_weights:\n",
    "        node_a = nodes[node_idx_a]\n",
    "        node_b = nodes[node_idx_b]\n",
    "        if remove_same_group_links and node_a.group == node_b.group:\n",
    "            continue\n",
    "        #keep track for each node in the link of associated weight\n",
    "        node2links[node_idx_a][(node_idx_a, node_idx_b)] = weight\n",
    "        node2links[node_idx_b][(node_idx_a, node_idx_b)] = weight\n",
    "    for node_idx in node2links:\n",
    "        links_of_node = node2links[node_idx]\n",
    "        topn_nodes.update(set(links_of_node.most_common(topn)))\n",
    "    return list(topn_nodes)\n",
    "    "
   ]
  },
  {
   "cell_type": "code",
   "execution_count": 328,
   "metadata": {
    "collapsed": false
   },
   "outputs": [],
   "source": [
    "links_base = map(lambda x: Link(x[0][0], \n",
    "                           x[0][1],\n",
    "                           int(round(x[1] * 100))\n",
    "                          ),\n",
    "            topn_links(nodes, link_weights, topn=3, remove_same_group_links=True)\n",
    "           )\n",
    "\n",
    "# links = [l for l in links_base if nodes[l.source].group != nodes[l.target].group and l.value >= 10]\n",
    "\n",
    "#links = [l for l in links_base if nodes[l.source].group != nodes[l.target].group]\n",
    "\n",
    "links = [l for l in links_base]"
   ]
  },
  {
   "cell_type": "code",
   "execution_count": 329,
   "metadata": {
    "collapsed": false
   },
   "outputs": [],
   "source": [
    "graph_source = repr(\n",
    "        {\"nodes\": map(lambda x: x.to_map(), nodes),\n",
    "         \"links\": map(lambda x: x.to_map(), links)\n",
    "        }\n",
    "    ).replace(\"'\", \"\\\"\")\n"
   ]
  },
  {
   "cell_type": "code",
   "execution_count": 330,
   "metadata": {
    "collapsed": false
   },
   "outputs": [],
   "source": [
    "with open(\"global_risks_source.json\", \"w\") as fout:\n",
    "    fout.write(graph_source)"
   ]
  },
  {
   "cell_type": "code",
   "execution_count": 331,
   "metadata": {
    "collapsed": false
   },
   "outputs": [],
   "source": [
    "#graph_source"
   ]
  },
  {
   "cell_type": "code",
   "execution_count": null,
   "metadata": {
    "collapsed": true
   },
   "outputs": [],
   "source": [
    "#==="
   ]
  },
  {
   "cell_type": "code",
   "execution_count": null,
   "metadata": {
    "collapsed": true
   },
   "outputs": [],
   "source": []
  },
  {
   "cell_type": "code",
   "execution_count": null,
   "metadata": {
    "collapsed": false
   },
   "outputs": [],
   "source": [
    "import igraph as ig\n",
    "import plotly\n",
    "from plotly.graph_objs import *\n",
    "import json"
   ]
  },
  {
   "cell_type": "code",
   "execution_count": null,
   "metadata": {
    "collapsed": true
   },
   "outputs": [],
   "source": [
    "f = open(\"global_risks_source.json\", \"r\")\n",
    "data = json.loads(f.read())"
   ]
  },
  {
   "cell_type": "code",
   "execution_count": null,
   "metadata": {
    "collapsed": false
   },
   "outputs": [],
   "source": [
    "print data.keys()"
   ]
  },
  {
   "cell_type": "code",
   "execution_count": null,
   "metadata": {
    "collapsed": false
   },
   "outputs": [],
   "source": [
    "N=len(data['nodes'])\n",
    "N"
   ]
  },
  {
   "cell_type": "code",
   "execution_count": null,
   "metadata": {
    "collapsed": false
   },
   "outputs": [],
   "source": [
    "L=len(data['links'])\n",
    "L"
   ]
  },
  {
   "cell_type": "code",
   "execution_count": null,
   "metadata": {
    "collapsed": false
   },
   "outputs": [],
   "source": [
    "Edges = [(data['links'][k]['source'], data['links'][k]['target']) for k in range(L)]\n",
    "\n",
    "G = ig.Graph(Edges, directed=False)"
   ]
  },
  {
   "cell_type": "code",
   "execution_count": null,
   "metadata": {
    "collapsed": true
   },
   "outputs": [],
   "source": [
    "labels = []\n",
    "group = []\n",
    "for node in data['nodes']:\n",
    "    labels.append(node['name'])\n",
    "    group.append(node['group'])"
   ]
  },
  {
   "cell_type": "code",
   "execution_count": null,
   "metadata": {
    "collapsed": true
   },
   "outputs": [],
   "source": [
    "layt = G.layout('kk', dim=3)"
   ]
  },
  {
   "cell_type": "code",
   "execution_count": null,
   "metadata": {
    "collapsed": false
   },
   "outputs": [],
   "source": [
    "len(layt)"
   ]
  },
  {
   "cell_type": "code",
   "execution_count": null,
   "metadata": {
    "collapsed": false
   },
   "outputs": [],
   "source": [
    "for i, k in enumerate(range(len(layt))):\n",
    "    print((\"%s, %s\")%(i, layt[k][0]))"
   ]
  },
  {
   "cell_type": "code",
   "execution_count": null,
   "metadata": {
    "collapsed": false
   },
   "outputs": [],
   "source": [
    "Xn=[layt[k][0] for k in range(len(layt))]# x-coordinates of nodes\n",
    "Yn=[layt[k][1] for k in range(len(layt))]# y-coordinates\n",
    "Zn=[layt[k][2] for k in range(len(layt))]# z-coordinates\n",
    "Xe=[]\n",
    "Ye=[]\n",
    "Ze=[]\n",
    "for e in Edges:\n",
    "    Xe+=[layt[e[0]][0],layt[e[1]][0], None]# x-coordinates of edge ends\n",
    "    Ye+=[layt[e[0]][1],layt[e[1]][1], None]\n",
    "    Ze+=[layt[e[0]][2],layt[e[1]][2], None]"
   ]
  },
  {
   "cell_type": "code",
   "execution_count": null,
   "metadata": {
    "collapsed": false
   },
   "outputs": [],
   "source": [
    "trace1 = Scatter3d(x=Xe,\n",
    "               y=Ye,\n",
    "               z=Ze,\n",
    "               mode='lines',\n",
    "               line=Line(color='rgb(125,125,125)', width=1),\n",
    "               hoverinfo='none'\n",
    "               )\n",
    "trace2 = Scatter3d(x=Xn,\n",
    "               y=Yn,\n",
    "               z=Zn,\n",
    "               mode='markers',\n",
    "               name='actors',\n",
    "               marker=Marker(symbol='dot',\n",
    "                             size=6,\n",
    "                             color=group,\n",
    "                             colorscale='Viridis',\n",
    "                             line=Line(color='rgb(50,50,50)', width=0.5)\n",
    "                             ),\n",
    "               text=labels,\n",
    "               hoverinfo='text'\n",
    "               )\n",
    "\n",
    "axis=dict(showbackground=False,\n",
    "          showline=False,\n",
    "          zeroline=False,\n",
    "          showgrid=False,\n",
    "          showticklabels=False,\n",
    "          title=''\n",
    "          )\n",
    "\n",
    "layout = Layout(\n",
    "         title=\"Global Risks\",\n",
    "         width=1000,\n",
    "         height=1000,\n",
    "         showlegend=False,\n",
    "         scene=Scene(\n",
    "         xaxis=XAxis(axis),\n",
    "         yaxis=YAxis(axis),\n",
    "         zaxis=ZAxis(axis),\n",
    "        ),\n",
    "     margin=Margin(\n",
    "        t=100\n",
    "    ),\n",
    "    hovermode='closest',\n",
    "    )"
   ]
  },
  {
   "cell_type": "code",
   "execution_count": null,
   "metadata": {
    "collapsed": false
   },
   "outputs": [],
   "source": [
    "data=Data([trace1, trace2])\n",
    "fig=Figure(data=data, layout=layout)"
   ]
  },
  {
   "cell_type": "code",
   "execution_count": null,
   "metadata": {
    "collapsed": false
   },
   "outputs": [],
   "source": [
    "plotly.offline.plot(data, filename='global_risks_plot.html')"
   ]
  },
  {
   "cell_type": "code",
   "execution_count": null,
   "metadata": {
    "collapsed": true
   },
   "outputs": [],
   "source": []
  }
 ],
 "metadata": {
  "kernelspec": {
   "display_name": "Python 2",
   "language": "python",
   "name": "python2"
  },
  "language_info": {
   "codemirror_mode": {
    "name": "ipython",
    "version": 2
   },
   "file_extension": ".py",
   "mimetype": "text/x-python",
   "name": "python",
   "nbconvert_exporter": "python",
   "pygments_lexer": "ipython2",
   "version": "2.7.12"
  }
 },
 "nbformat": 4,
 "nbformat_minor": 2
}
