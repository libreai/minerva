{
 "cells": [
  {
   "cell_type": "code",
   "execution_count": 1,
   "metadata": {},
   "outputs": [],
   "source": [
    "import json\n",
    "from pprint import pprint"
   ]
  },
  {
   "cell_type": "code",
   "execution_count": 6,
   "metadata": {},
   "outputs": [],
   "source": [
    "data_file = \"../../data/global_risks_source.json\""
   ]
  },
  {
   "cell_type": "code",
   "execution_count": 7,
   "metadata": {},
   "outputs": [],
   "source": [
    "data = json.load(open(data_file))"
   ]
  },
  {
   "cell_type": "code",
   "execution_count": 12,
   "metadata": {},
   "outputs": [],
   "source": [
    "nodes = data['nodes']"
   ]
  },
  {
   "cell_type": "code",
   "execution_count": 16,
   "metadata": {},
   "outputs": [],
   "source": [
    "nodes_indexed = zip(xrange(len(nodes)), nodes)"
   ]
  },
  {
   "cell_type": "code",
   "execution_count": 17,
   "metadata": {},
   "outputs": [
    {
     "data": {
      "text/plain": [
       "[(0, {u'group': 0, u'name': u'Asset bubbles in a major economy'}),\n",
       " (1, {u'group': 0, u'name': u'Deflation in a major economy'}),\n",
       " (2,\n",
       "  {u'group': 0,\n",
       "   u'name': u'Failure of a major financial mechanism or institution'}),\n",
       " (3, {u'group': 0, u'name': u'Failure/shortfall of critical infrastructure'}),\n",
       " (4, {u'group': 0, u'name': u'Fiscal crises in key economies'}),\n",
       " (5,\n",
       "  {u'group': 0, u'name': u'High structural unemployment or underemployment'}),\n",
       " (6, {u'group': 0, u'name': u'Illicit trade'}),\n",
       " (7, {u'group': 0, u'name': u'Severe energy price shock'}),\n",
       " (8, {u'group': 0, u'name': u'Unmanageable inflation'}),\n",
       " (9, {u'group': 1, u'name': u'Extreme weather events'}),\n",
       " (10,\n",
       "  {u'group': 1,\n",
       "   u'name': u'Failure of climate-change mitigation and adaptation'}),\n",
       " (11,\n",
       "  {u'group': 1, u'name': u'Major biodiversity loss and ecosystem collapse'}),\n",
       " (12, {u'group': 1, u'name': u'Man made environmental damage and disasters'}),\n",
       " (13, {u'group': 2, u'name': u'Failure of national governance'}),\n",
       " (14, {u'group': 2, u'name': u'Failure of regional or global governance'}),\n",
       " (15,\n",
       "  {u'group': 2, u'name': u'Interstate conflict with regional consequences'}),\n",
       " (16, {u'group': 2, u'name': u'Large scale terrorist attacks'}),\n",
       " (17, {u'group': 2, u'name': u'State collapse or crisis'}),\n",
       " (18, {u'group': 2, u'name': u'Weapons of mass destruction'}),\n",
       " (19, {u'group': 3, u'name': u'Failure of urban planning'}),\n",
       " (20, {u'group': 3, u'name': u'Food crises'}),\n",
       " (21, {u'group': 3, u'name': u'Large scale involuntary migration'}),\n",
       " (22, {u'group': 3, u'name': u'Profound social instability'}),\n",
       " (23,\n",
       "  {u'group': 3, u'name': u'Rapid and massive spread of infectious diseases'}),\n",
       " (24, {u'group': 3, u'name': u'Water crises'}),\n",
       " (25,\n",
       "  {u'group': 4, u'name': u'Adverse consequences of technological advances'}),\n",
       " (26,\n",
       "  {u'group': 4,\n",
       "   u'name': u'Breakdown of critical information infrastructure and networks and cyberattacks'}),\n",
       " (27, {u'group': 4, u'name': u'Massive incident of data fraud and theft'})]"
      ]
     },
     "execution_count": 17,
     "metadata": {},
     "output_type": "execute_result"
    }
   ],
   "source": [
    "nodes_indexed"
   ]
  },
  {
   "cell_type": "code",
   "execution_count": null,
   "metadata": {},
   "outputs": [],
   "source": [
    "# For Gephi's node table:"
   ]
  },
  {
   "cell_type": "code",
   "execution_count": 44,
   "metadata": {},
   "outputs": [],
   "source": [
    "def node_record(node):\n",
    "    return \"%s;\\\"%s\\\";%s\"%(node[0], node[1]['name'], node[1]['group'])\n",
    "\n",
    "def node_table(nodes_indexed):\n",
    "    return \"\\n\".join(map(node_record, nodes_indexed))"
   ]
  },
  {
   "cell_type": "code",
   "execution_count": 45,
   "metadata": {},
   "outputs": [
    {
     "name": "stdout",
     "output_type": "stream",
     "text": [
      "0;\"Asset bubbles in a major economy\";0\n",
      "1;\"Deflation in a major economy\";0\n",
      "2;\"Failure of a major financial mechanism or institution\";0\n",
      "3;\"Failure/shortfall of critical infrastructure\";0\n",
      "4;\"Fiscal crises in key economies\";0\n",
      "5;\"High structural unemployment or underemployment\";0\n",
      "6;\"Illicit trade\";0\n",
      "7;\"Severe energy price shock\";0\n",
      "8;\"Unmanageable inflation\";0\n",
      "9;\"Extreme weather events\";1\n",
      "10;\"Failure of climate-change mitigation and adaptation\";1\n",
      "11;\"Major biodiversity loss and ecosystem collapse\";1\n",
      "12;\"Man made environmental damage and disasters\";1\n",
      "13;\"Failure of national governance\";2\n",
      "14;\"Failure of regional or global governance\";2\n",
      "15;\"Interstate conflict with regional consequences\";2\n",
      "16;\"Large scale terrorist attacks\";2\n",
      "17;\"State collapse or crisis\";2\n",
      "18;\"Weapons of mass destruction\";2\n",
      "19;\"Failure of urban planning\";3\n",
      "20;\"Food crises\";3\n",
      "21;\"Large scale involuntary migration\";3\n",
      "22;\"Profound social instability\";3\n",
      "23;\"Rapid and massive spread of infectious diseases\";3\n",
      "24;\"Water crises\";3\n",
      "25;\"Adverse consequences of technological advances\";4\n",
      "26;\"Breakdown of critical information infrastructure and networks and cyberattacks\";4\n",
      "27;\"Massive incident of data fraud and theft\";4\n"
     ]
    }
   ],
   "source": [
    "print(node_table(nodes_indexed))"
   ]
  },
  {
   "cell_type": "code",
   "execution_count": 56,
   "metadata": {},
   "outputs": [],
   "source": [
    "def write_node_table(nodes_indexed, fname_out):\n",
    "    header = \"Id;Label;Group\"\n",
    "    with open(fname_out, \"w\") as fout:\n",
    "        fout.write(header + \"\\n\")\n",
    "        fout.write(node_table(nodes_indexed))"
   ]
  },
  {
   "cell_type": "code",
   "execution_count": 63,
   "metadata": {},
   "outputs": [],
   "source": [
    "write_node_table(nodes_indexed, \"node_table.csv\")"
   ]
  },
  {
   "cell_type": "code",
   "execution_count": 58,
   "metadata": {},
   "outputs": [
    {
     "name": "stdout",
     "output_type": "stream",
     "text": [
      "edge_table.gephi\r\n",
      "minerva_data_preprocessing_notebook_google_datalab_m01.ipynb\r\n",
      "minerva_global_risks_graph_notebook_m01.ipynb\r\n",
      "node_table.gephi\r\n",
      "sandbox.ipynb\r\n"
     ]
    }
   ],
   "source": [
    "!ls"
   ]
  },
  {
   "cell_type": "markdown",
   "metadata": {},
   "source": [
    "# ---"
   ]
  },
  {
   "cell_type": "code",
   "execution_count": 26,
   "metadata": {},
   "outputs": [
    {
     "name": "stdout",
     "output_type": "stream",
     "text": [
      "[{u'source': 11, u'target': 20, u'value': 97}, {u'source': 4, u'target': 11, u'value': 24}, {u'source': 4, u'target': 25, u'value': 12}, {u'source': 0, u'target': 9, u'value': 21}, {u'source': 3, u'target': 26, u'value': 11}, {u'source': 3, u'target': 27, u'value': 10}, {u'source': 7, u'target': 9, u'value': 33}, {u'source': 14, u'target': 22, u'value': 32}, {u'source': 8, u'target': 10, u'value': 35}, {u'source': 4, u'target': 20, u'value': 25}, {u'source': 6, u'target': 23, u'value': 35}, {u'source': 18, u'target': 27, u'value': 7}, {u'source': 16, u'target': 25, u'value': 10}, {u'source': 17, u'target': 27, u'value': 1}, {u'source': 7, u'target': 11, u'value': 32}, {u'source': 2, u'target': 12, u'value': 5}, {u'source': 5, u'target': 13, u'value': 37}, {u'source': 9, u'target': 24, u'value': 44}, {u'source': 19, u'target': 25, u'value': 20}, {u'source': 19, u'target': 27, u'value': 10}, {u'source': 1, u'target': 19, u'value': 18}, {u'source': 10, u'target': 20, u'value': 38}, {u'source': 11, u'target': 24, u'value': 36}, {u'source': 6, u'target': 14, u'value': 38}, {u'source': 14, u'target': 23, u'value': 37}, {u'source': 13, u'target': 23, u'value': 34}, {u'source': 16, u'target': 22, u'value': 12}, {u'source': 7, u'target': 10, u'value': 36}, {u'source': 4, u'target': 26, u'value': 12}, {u'source': 4, u'target': 19, u'value': 18}, {u'source': 3, u'target': 25, u'value': 14}, {u'source': 12, u'target': 17, u'value': 2}, {u'source': 9, u'target': 20, u'value': 35}, {u'source': 16, u'target': 26, u'value': 14}, {u'source': 15, u'target': 22, u'value': 30}, {u'source': 19, u'target': 26, u'value': 17}, {u'source': 8, u'target': 24, u'value': 36}, {u'source': 12, u'target': 18, u'value': 6}, {u'source': 0, u'target': 20, u'value': 26}, {u'source': 10, u'target': 24, u'value': 43}, {u'source': 8, u'target': 21, u'value': 34}, {u'source': 6, u'target': 15, u'value': 35}, {u'source': 15, u'target': 21, u'value': 39}, {u'source': 6, u'target': 13, u'value': 37}, {u'source': 16, u'target': 27, u'value': 9}, {u'source': 4, u'target': 9, u'value': 20}, {u'source': 2, u'target': 17, u'value': 7}, {u'source': 3, u'target': 19, u'value': 15}, {u'source': 3, u'target': 12, u'value': 7}, {u'source': 6, u'target': 21, u'value': 39}, {u'source': 13, u'target': 22, u'value': 46}, {u'source': 13, u'target': 21, u'value': 45}, {u'source': 5, u'target': 15, u'value': 38}, {u'source': 1, u'target': 11, u'value': 24}, {u'source': 1, u'target': 9, u'value': 20}, {u'source': 2, u'target': 18, u'value': 7}, {u'source': 7, u'target': 24, u'value': 37}, {u'source': 0, u'target': 11, u'value': 26}, {u'source': 5, u'target': 21, u'value': 42}, {u'source': 14, u'target': 21, u'value': 42}, {u'source': 12, u'target': 27, u'value': 5}, {u'source': 1, u'target': 20, u'value': 25}]\n"
     ]
    }
   ],
   "source": [
    "edges = data['links']\n",
    "print(edges)"
   ]
  },
  {
   "cell_type": "code",
   "execution_count": 47,
   "metadata": {},
   "outputs": [],
   "source": [
    "def edge_table(edges):\n",
    "    return \"\\n\".join(map(lambda edge: \"%s;%s;%s\"%(edge['source'], edge['target'], edge['value']), edges))\n",
    "    "
   ]
  },
  {
   "cell_type": "code",
   "execution_count": 59,
   "metadata": {},
   "outputs": [],
   "source": [
    "def write_edge_table(edges, fname_out):\n",
    "    header = \"Source;Target;Weight\"\n",
    "    with open(fname_out, \"w\") as fout:\n",
    "        fout.write(header + \"\\n\")\n",
    "        fout.write(edge_table(edges))"
   ]
  },
  {
   "cell_type": "code",
   "execution_count": 62,
   "metadata": {},
   "outputs": [],
   "source": [
    "write_edge_table(edges, \"edge_table.csv\")"
   ]
  },
  {
   "cell_type": "code",
   "execution_count": 61,
   "metadata": {},
   "outputs": [
    {
     "name": "stdout",
     "output_type": "stream",
     "text": [
      "edge_table.gephi\r\n",
      "minerva_data_preprocessing_notebook_google_datalab_m01.ipynb\r\n",
      "minerva_global_risks_graph_notebook_m01.ipynb\r\n",
      "node_table.gephi\r\n",
      "sandbox.ipynb\r\n"
     ]
    }
   ],
   "source": [
    "!ls"
   ]
  },
  {
   "cell_type": "code",
   "execution_count": null,
   "metadata": {},
   "outputs": [],
   "source": []
  }
 ],
 "metadata": {
  "kernelspec": {
   "display_name": "Python 2",
   "language": "python",
   "name": "python2"
  },
  "language_info": {
   "codemirror_mode": {
    "name": "ipython",
    "version": 2
   },
   "file_extension": ".py",
   "mimetype": "text/x-python",
   "name": "python",
   "nbconvert_exporter": "python",
   "pygments_lexer": "ipython2",
   "version": "2.7.14"
  }
 },
 "nbformat": 4,
 "nbformat_minor": 2
}
