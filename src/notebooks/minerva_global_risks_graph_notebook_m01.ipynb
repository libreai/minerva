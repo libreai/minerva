{
 "cells": [
  {
   "cell_type": "markdown",
   "metadata": {},
   "source": [
    "# Project Minerva\n",
    "## Notebook: The Global Risks Interconnections Map 2017\n",
    "### https://libre-ai.github.io/minerva/"
   ]
  },
  {
   "cell_type": "code",
   "execution_count": 4,
   "metadata": {},
   "outputs": [],
   "source": [
    "import math\n",
    "from collections import Counter, defaultdict\n",
    "import json"
   ]
  },
  {
   "cell_type": "code",
   "execution_count": 5,
   "metadata": {},
   "outputs": [],
   "source": [
    "class Node:\n",
    "    name = \"\"\n",
    "    group = \"\"\n",
    "    \n",
    "    def __init__(self, name, group):\n",
    "        self.name = name\n",
    "        self.group = group\n",
    "        \n",
    "    def to_map(self):\n",
    "        return {\"name\": self.name, \"group\": self.group}\n",
    "        \n",
    "    def to_json_string(self):\n",
    "        return \"{\\\"name\\\":\\\"%s\\\", \\\"group\\\":%d}\"%(self.name, self.group)"
   ]
  },
  {
   "cell_type": "code",
   "execution_count": 6,
   "metadata": {},
   "outputs": [],
   "source": [
    "class Link:\n",
    "    source = 0\n",
    "    target = 0\n",
    "    value = 1\n",
    "    \n",
    "    def __init__(self, source, target, value):\n",
    "        self.source = source\n",
    "        self.target = target\n",
    "        self.value = value\n",
    "        \n",
    "    def to_map(self):\n",
    "        return {\"source\": self.source, \"target\": self.target, \"value\": self.value}\n",
    "        \n",
    "    def to_json_string(self):\n",
    "        return \"{\\\"source\\\":\\\"%s\\\", \\\"target\\\":%d, \\\"value\\\":%d}\"%(self.source, self.target, self.value)"
   ]
  },
  {
   "cell_type": "code",
   "execution_count": 7,
   "metadata": {},
   "outputs": [],
   "source": [
    "risk_groups = {\n",
    "    0:\"Economic Risks\",\n",
    "    1:\"Environmental Risks\",\n",
    "    2:\"Geopolitical Risks\",\n",
    "    3:\"Societal Risks\",\n",
    "    4:\"Technological Risks\"\n",
    "    }"
   ]
  },
  {
   "cell_type": "code",
   "execution_count": 8,
   "metadata": {},
   "outputs": [],
   "source": [
    "nodes = [\n",
    "    Node(\"Asset bubbles in a major economy\", 0),\n",
    "    Node(\"Deflation in a major economy\", 0),\n",
    "    Node(\"Failure of a major financial mechanism or institution\", 0),\n",
    "    Node(\"Failure/shortfall of critical infrastructure\", 0),\n",
    "    Node(\"Fiscal crises in key economies\", 0),\n",
    "    Node(\"High structural unemployment or underemployment\", 0),\n",
    "    Node(\"Illicit trade\", 0),\n",
    "    Node(\"Severe energy price shock\", 0),\n",
    "    Node(\"Unmanageable inflation\", 0),\n",
    "    #---\n",
    "    Node(\"Extreme weather events\", 1),\n",
    "    Node(\"Failure of climate-change mitigation and adaptation\", 1),\n",
    "    Node(\"Major biodiversity loss and ecosystem collapse\", 1),\n",
    "    Node(\"Man made environmental damage and disasters\", 1),\n",
    "    #---\n",
    "    Node(\"Failure of national governance\", 2),\n",
    "    Node(\"Failure of regional or global governance\", 2),\n",
    "    Node(\"Interstate conflict with regional consequences\", 2),\n",
    "    Node(\"Large scale terrorist attacks\", 2),\n",
    "    Node(\"State collapse or crisis\", 2),\n",
    "    Node(\"Weapons of mass destruction\", 2),\n",
    "    #---\n",
    "    Node(\"Failure of urban planning\", 3),\n",
    "    Node(\"Food crises\", 3),\n",
    "    Node(\"Large scale involuntary migration\", 3),\n",
    "    Node(\"Profound social instability\", 3),\n",
    "    Node(\"Rapid and massive spread of infectious diseases\", 3),\n",
    "    Node(\"Water crises\", 3),\n",
    "    #---\n",
    "    Node(\"Adverse consequences of technological advances\", 4),\n",
    "    Node(\"Breakdown of critical information infrastructure and networks and cyberattacks\", 4),\n",
    "    Node(\"Massive incident of data fraud and theft\", 4)\n",
    "]"
   ]
  },
  {
   "cell_type": "code",
   "execution_count": 9,
   "metadata": {},
   "outputs": [],
   "source": [
    "indexed_nodes = zip(range(len(nodes)), nodes)"
   ]
  },
  {
   "cell_type": "markdown",
   "metadata": {},
   "source": [
    "#### The file `pairwise_weights.txt` can be found at [https://github.com/libre-ai/minerva/tree/master/data]"
   ]
  },
  {
   "cell_type": "code",
   "execution_count": 10,
   "metadata": {},
   "outputs": [],
   "source": [
    "link_weights = eval(open(\"../../data/pairwise_weights.txt\").readlines()[0].strip())"
   ]
  },
  {
   "cell_type": "code",
   "execution_count": 11,
   "metadata": {},
   "outputs": [],
   "source": [
    "def topn_links(nodes, link_weights, topn=5, remove_same_group_links=False):\n",
    "    topn_nodes = set()\n",
    "    node2links = defaultdict(Counter)\n",
    "    for ((node_idx_a, node_idx_b), weight) in link_weights:\n",
    "        node_a = nodes[node_idx_a]\n",
    "        node_b = nodes[node_idx_b]\n",
    "        if remove_same_group_links and node_a.group == node_b.group:\n",
    "            continue\n",
    "        #keep track for each node in the link of associated weight\n",
    "        node2links[node_idx_a][(node_idx_a, node_idx_b)] = weight\n",
    "        node2links[node_idx_b][(node_idx_a, node_idx_b)] = weight\n",
    "    for node_idx in node2links:\n",
    "        links_of_node = node2links[node_idx]\n",
    "        topn_nodes.update(set(links_of_node.most_common(topn)))\n",
    "    return list(topn_nodes)\n",
    "    "
   ]
  },
  {
   "cell_type": "code",
   "execution_count": 12,
   "metadata": {},
   "outputs": [],
   "source": [
    "links_base = map(lambda x: Link(x[0][0], \n",
    "                           x[0][1],\n",
    "                           int(round(x[1] * 100))\n",
    "                          ),\n",
    "            topn_links(nodes, link_weights, topn=4, remove_same_group_links=True)\n",
    "           )\n",
    "\n",
    "links = [l for l in links_base]"
   ]
  },
  {
   "cell_type": "code",
   "execution_count": 14,
   "metadata": {},
   "outputs": [],
   "source": [
    "graph_source = repr(\n",
    "        {\n",
    "         \"groups\": risk_groups,\n",
    "         \"nodes\": map(lambda x: x.to_map(), nodes),\n",
    "         \"links\": map(lambda x: x.to_map(), links)\n",
    "        }\n",
    "    ).replace(\"'\", \"\\\"\")\n"
   ]
  },
  {
   "cell_type": "code",
   "execution_count": 26,
   "metadata": {},
   "outputs": [
    {
     "name": "stdout",
     "output_type": "stream",
     "text": [
      "{\"nodes\": [{\"group\": 0, \"name\": \"Asset bubbles in a major economy\"}, {\"group\": 0, \"name\": \"Deflation in a major economy\"}, {\"group\": 0, \"name\": \"Failure of a major financial mechanism or institution\"}, {\"group\": 0, \"name\": \"Failure/shortfall of critical infrastructure\"}, {\"group\": 0, \"name\": \"Fiscal crises in key economies\"}, {\"group\": 0, \"name\": \"High structural unemployment or underemployment\"}, {\"group\": 0, \"name\": \"Illicit trade\"}, {\"group\": 0, \"name\": \"Severe energy price shock\"}, {\"group\": 0, \"name\": \"Unmanageable inflation\"}, {\"group\": 1, \"name\": \"Extreme weather events\"}, {\"group\": 1, \"name\": \"Failure of climate-change mitigation and adaptation\"}, {\"group\": 1, \"name\": \"Major biodiversity loss and ecosystem collapse\"}, {\"group\": 1, \"name\": \"Man made environmental damage and disasters\"}, {\"group\": 2, \"name\": \"Failure of national governance\"}, {\"group\": 2, \"name\": \"Failure of regional or global governance\"}, {\"group\": 2, \"name\": \"Interstate conflict with regional consequences\"}, {\"group\": 2, \"name\": \"Large scale terrorist attacks\"}, {\"group\": 2, \"name\": \"State collapse or crisis\"}, {\"group\": 2, \"name\": \"Weapons of mass destruction\"}, {\"group\": 3, \"name\": \"Failure of urban planning\"}, {\"group\": 3, \"name\": \"Food crises\"}, {\"group\": 3, \"name\": \"Large scale involuntary migration\"}, {\"group\": 3, \"name\": \"Profound social instability\"}, {\"group\": 3, \"name\": \"Rapid and massive spread of infectious diseases\"}, {\"group\": 3, \"name\": \"Water crises\"}, {\"group\": 4, \"name\": \"Adverse consequences of technological advances\"}, {\"group\": 4, \"name\": \"Breakdown of critical information infrastructure and networks and cyberattacks\"}, {\"group\": 4, \"name\": \"Massive incident of data fraud and theft\"}], \"links\": [{\"source\": 2, \"target\": 27, \"value\": 3}, {\"source\": 11, \"target\": 20, \"value\": 97}, {\"source\": 1, \"target\": 26, \"value\": 12}, {\"source\": 16, \"target\": 19, \"value\": 9}, {\"source\": 4, \"target\": 25, \"value\": 12}, {\"source\": 0, \"target\": 9, \"value\": 21}, {\"source\": 3, \"target\": 26, \"value\": 11}, {\"source\": 9, \"target\": 20, \"value\": 35}, {\"source\": 7, \"target\": 9, \"value\": 33}, {\"source\": 14, \"target\": 22, \"value\": 32}, {\"source\": 8, \"target\": 10, \"value\": 35}, {\"source\": 11, \"target\": 24, \"value\": 36}, {\"source\": 4, \"target\": 20, \"value\": 25}, {\"source\": 8, \"target\": 14, \"value\": 33}, {\"source\": 11, \"target\": 23, \"value\": 31}, {\"source\": 6, \"target\": 23, \"value\": 35}, {\"source\": 18, \"target\": 27, \"value\": 7}, {\"source\": 1, \"target\": 25, \"value\": 12}, {\"source\": 16, \"target\": 25, \"value\": 10}, {\"source\": 7, \"target\": 20, \"value\": 32}, {\"source\": 17, \"target\": 27, \"value\": 1}, {\"source\": 7, \"target\": 11, \"value\": 32}, {\"source\": 2, \"target\": 12, \"value\": 5}, {\"source\": 5, \"target\": 13, \"value\": 37}, {\"source\": 2, \"target\": 18, \"value\": 7}, {\"source\": 19, \"target\": 25, \"value\": 20}, {\"source\": 19, \"target\": 27, \"value\": 10}, {\"source\": 1, \"target\": 19, \"value\": 18}, {\"source\": 10, \"target\": 20, \"value\": 38}, {\"source\": 4, \"target\": 11, \"value\": 24}, {\"source\": 6, \"target\": 14, \"value\": 38}, {\"source\": 14, \"target\": 23, \"value\": 37}, {\"source\": 0, \"target\": 10, \"value\": 21}, {\"source\": 16, \"target\": 22, \"value\": 12}, {\"source\": 7, \"target\": 10, \"value\": 36}, {\"source\": 4, \"target\": 26, \"value\": 12}, {\"source\": 4, \"target\": 19, \"value\": 18}, {\"source\": 3, \"target\": 25, \"value\": 14}, {\"source\": 12, \"target\": 17, \"value\": 2}, {\"source\": 3, \"target\": 27, \"value\": 10}, {\"source\": 16, \"target\": 26, \"value\": 14}, {\"source\": 15, \"target\": 22, \"value\": 30}, {\"source\": 19, \"target\": 26, \"value\": 17}, {\"source\": 4, \"target\": 10, \"value\": 20}, {\"source\": 10, \"target\": 23, \"value\": 33}, {\"source\": 12, \"target\": 18, \"value\": 6}, {\"source\": 0, \"target\": 20, \"value\": 26}, {\"source\": 10, \"target\": 24, \"value\": 43}, {\"source\": 8, \"target\": 21, \"value\": 34}, {\"source\": 6, \"target\": 15, \"value\": 35}, {\"source\": 17, \"target\": 25, \"value\": 1}, {\"source\": 8, \"target\": 15, \"value\": 31}, {\"source\": 15, \"target\": 21, \"value\": 39}, {\"source\": 10, \"target\": 14, \"value\": 35}, {\"source\": 6, \"target\": 13, \"value\": 37}, {\"source\": 9, \"target\": 24, \"value\": 44}, {\"source\": 16, \"target\": 27, \"value\": 9}, {\"source\": 4, \"target\": 9, \"value\": 20}, {\"source\": 13, \"target\": 22, \"value\": 46}, {\"source\": 3, \"target\": 19, \"value\": 15}, {\"source\": 3, \"target\": 12, \"value\": 7}, {\"source\": 13, \"target\": 23, \"value\": 34}, {\"source\": 2, \"target\": 17, \"value\": 7}, {\"source\": 18, \"target\": 25, \"value\": 4}, {\"source\": 13, \"target\": 21, \"value\": 45}, {\"source\": 5, \"target\": 15, \"value\": 38}, {\"source\": 6, \"target\": 22, \"value\": 30}, {\"source\": 1, \"target\": 11, \"value\": 24}, {\"source\": 1, \"target\": 10, \"value\": 20}, {\"source\": 1, \"target\": 9, \"value\": 20}, {\"source\": 6, \"target\": 21, \"value\": 39}, {\"source\": 5, \"target\": 14, \"value\": 35}, {\"source\": 7, \"target\": 24, \"value\": 37}, {\"source\": 0, \"target\": 11, \"value\": 26}, {\"source\": 5, \"target\": 21, \"value\": 42}, {\"source\": 14, \"target\": 21, \"value\": 42}, {\"source\": 12, \"target\": 27, \"value\": 5}, {\"source\": 8, \"target\": 24, \"value\": 36}, {\"source\": 9, \"target\": 23, \"value\": 31}, {\"source\": 1, \"target\": 20, \"value\": 25}], \"groups\": {0: \"Economic Risks\", 1: \"Environmental Risks\", 2: \"Geopolitical Risks\", 3: \"Societal Risks\", 4: \"Technological Risks\"}}\n"
     ]
    }
   ],
   "source": [
    "print(graph_source)"
   ]
  },
  {
   "cell_type": "code",
   "execution_count": null,
   "metadata": {
    "collapsed": true
   },
   "outputs": [],
   "source": [
    "# with open(\"global_risks_source.json\", \"w\") as fout:\n",
    "#     fout.write(graph_source)"
   ]
  },
  {
   "cell_type": "markdown",
   "metadata": {},
   "source": [
    "---"
   ]
  },
  {
   "cell_type": "markdown",
   "metadata": {},
   "source": [
    "### The output `global_risks_source.json` can be found at:\n",
    "\n",
    "#### https://github.com/libre-ai/minerva/tree/master/data\n",
    "\n",
    "#### and the source of the resulting visualization can be found at:\n",
    "\n",
    "#### https://github.com/libre-ai/minerva/blob/gh-pages/index.html , \n",
    "\n",
    "#### which can be seen at: https://libre-ai.github.io/minerva/\n",
    "\n",
    "---\n"
   ]
  },
  {
   "cell_type": "markdown",
   "metadata": {
    "collapsed": true
   },
   "source": [
    "---"
   ]
  }
 ],
 "metadata": {
  "kernelspec": {
   "display_name": "Python 2",
   "language": "python",
   "name": "python2"
  },
  "language_info": {
   "codemirror_mode": {
    "name": "ipython",
    "version": 2
   },
   "file_extension": ".py",
   "mimetype": "text/x-python",
   "name": "python",
   "nbconvert_exporter": "python",
   "pygments_lexer": "ipython2",
   "version": "2.7.14"
  }
 },
 "nbformat": 4,
 "nbformat_minor": 2
}
