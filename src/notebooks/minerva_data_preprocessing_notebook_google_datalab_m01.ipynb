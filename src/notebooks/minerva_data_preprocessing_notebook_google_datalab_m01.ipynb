{
 "cells": [
  {
   "cell_type": "markdown",
   "metadata": {},
   "source": [
    "# Project Minerva\n",
    "## Notebook: preprocessing input data for the Global Risks Interconnections\n",
    "\n",
    "The GDELT [https://www.gdeltproject.org/] dataset is hosted in Google BigQuery database: `gdelt-bq:gdeltv2` [https://bigquery.cloud.google.com/dataset/gdelt-bq:gdeltv2].\n",
    "\n",
    "We create a table for each of the Global Risks we analyzed and use this notebook to process this input data and obtain the intensity of their interconnections. The queries used in BigQuery to create the tables are documented here: https://github.com/libre-ai/minerva/blob/master/doc/global_risks_bigquery_queries.md\n"
   ]
  },
  {
   "cell_type": "code",
   "execution_count": 7,
   "metadata": {
    "collapsed": false
   },
   "outputs": [
    {
     "data": {
      "text/html": [
       "\n",
       "          <script src=\"/static/components/requirejs/require.js\"></script>\n",
       "          <script>\n",
       "            requirejs.config({\n",
       "              paths: {\n",
       "                base: '/static/base',\n",
       "              },\n",
       "            });\n",
       "          </script>\n",
       "          "
      ],
      "text/plain": [
       "<IPython.core.display.HTML object>"
      ]
     },
     "metadata": {},
     "output_type": "display_data"
    }
   ],
   "source": [
    "import google.datalab.bigquery as bq\n",
    "import pandas as pd\n",
    "from itertools import product"
   ]
  },
  {
   "cell_type": "markdown",
   "metadata": {},
   "source": [
    "### List of BigQuery tables: "
   ]
  },
  {
   "cell_type": "code",
   "execution_count": 12,
   "metadata": {
    "collapsed": false
   },
   "outputs": [
    {
     "data": {
      "text/html": [
       "\n",
       "          <script src=\"/static/components/requirejs/require.js\"></script>\n",
       "          <script>\n",
       "            requirejs.config({\n",
       "              paths: {\n",
       "                base: '/static/base',\n",
       "              },\n",
       "            });\n",
       "          </script>\n",
       "          "
      ],
      "text/plain": [
       "<IPython.core.display.HTML object>"
      ]
     },
     "metadata": {},
     "output_type": "display_data"
    }
   ],
   "source": [
    "risk_tables = [\"risk_001_asset_bubbles_in_a_major_economy\",\n",
    "               \"risk_002_deflation_in_a_major_economy\",\n",
    "               \"risk_003_failure_of_a_major_financial_mechanism_or_institution\",\n",
    "               \"risk_004_failure_shortfall_of_critical_infrastructure\",\n",
    "               \"risk_005_fiscal_crises_in_key_economies\",\n",
    "               \"risk_006_high_structural_unemployment_or_underemployment\",\n",
    "               \"risk_007_illicit_trade\",\n",
    "               \"risk_008_severe_energy_price_shock\",\n",
    "               \"risk_009_unmanageable_inflation\",\n",
    "               \"risk_010_extreme_weather_events\",\n",
    "               \"risk_011_failure_of_climate_change_mitigation_and_adaptation\",\n",
    "               \"risk_012_major_biodiversity_loss_and_ecosystem_collapse\",\n",
    "               \"risk_013_man_made_environmental_damage_and_disasters\",\n",
    "               \"risk_014_failure_of_national_governance\",\n",
    "               \"risk_015_failure_of_regional_or_global_governance\",\n",
    "               \"risk_016_interstate_conflict_with_regional_consequences\",\n",
    "               \"risk_017_large_scale_terrorist_attacks\",\n",
    "               \"risk_018_state_collapse_or_crisis\",\n",
    "               \"risk_019_weapons_of_mass_destruction\",\n",
    "               \"risk_020_failure_of_urban_planning\",\n",
    "               \"risk_021_food_crises\",\n",
    "               \"risk_022_large_scale_involuntary_migration\",\n",
    "               \"risk_023_profound_social_instability\",\n",
    "               \"risk_024_rapid_and_massive_spread_of_infectious_diseases\",\n",
    "               \"risk_025_water_crises\",\n",
    "               \"risk_026_adverse_consequences_of_technological_advances\",\n",
    "               \"risk_027_breakdown_of_critical_information_infrastructure_and_networks_and_cyberattacks\",\n",
    "               \"risk_028_massive_incident_of_data_fraud_and_theft\"\n",
    "              ]"
   ]
  },
  {
   "cell_type": "code",
   "execution_count": 84,
   "metadata": {
    "collapsed": false
   },
   "outputs": [
    {
     "data": {
      "text/html": [
       "\n",
       "          <script src=\"/static/components/requirejs/require.js\"></script>\n",
       "          <script>\n",
       "            requirejs.config({\n",
       "              paths: {\n",
       "                base: '/static/base',\n",
       "              },\n",
       "            });\n",
       "          </script>\n",
       "          "
      ],
      "text/plain": [
       "<IPython.core.display.HTML object>"
      ]
     },
     "metadata": {},
     "output_type": "display_data"
    }
   ],
   "source": [
    "indexed_risk_tables = zip(range(len(risk_tables)), risk_tables)"
   ]
  },
  {
   "cell_type": "code",
   "execution_count": 85,
   "metadata": {
    "collapsed": false
   },
   "outputs": [
    {
     "data": {
      "text/html": [
       "\n",
       "          <script src=\"/static/components/requirejs/require.js\"></script>\n",
       "          <script>\n",
       "            requirejs.config({\n",
       "              paths: {\n",
       "                base: '/static/base',\n",
       "              },\n",
       "            });\n",
       "          </script>\n",
       "          "
      ],
      "text/plain": [
       "<IPython.core.display.HTML object>"
      ]
     },
     "metadata": {},
     "output_type": "display_data"
    },
    {
     "data": {
      "text/plain": [
       "[(0, 'risk_001_asset_bubbles_in_a_major_economy'),\n",
       " (1, 'risk_002_deflation_in_a_major_economy'),\n",
       " (2, 'risk_003_failure_of_a_major_financial_mechanism_or_institution'),\n",
       " (3, 'risk_004_failure_shortfall_of_critical_infrastructure'),\n",
       " (4, 'risk_005_fiscal_crises_in_key_economies'),\n",
       " (5, 'risk_006_high_structural_unemployment_or_underemployment'),\n",
       " (6, 'risk_007_illicit_trade'),\n",
       " (7, 'risk_008_severe_energy_price_shock'),\n",
       " (8, 'risk_009_unmanageable_inflation'),\n",
       " (9, 'risk_010_extreme_weather_events')]"
      ]
     },
     "execution_count": 85,
     "metadata": {},
     "output_type": "execute_result"
    }
   ],
   "source": [
    "indexed_risk_tables[0:10]"
   ]
  },
  {
   "cell_type": "markdown",
   "metadata": {
    "collapsed": true
   },
   "source": [
    "### These functions obtain the Entities for a Global Risk, that is, the Persons and Organizations associated to the risk. More precisely, we compute the union of fields V2Persons and V2Organizations. "
   ]
  },
  {
   "cell_type": "code",
   "execution_count": 20,
   "metadata": {
    "collapsed": false
   },
   "outputs": [
    {
     "data": {
      "text/html": [
       "\n",
       "          <script src=\"/static/components/requirejs/require.js\"></script>\n",
       "          <script>\n",
       "            requirejs.config({\n",
       "              paths: {\n",
       "                base: '/static/base',\n",
       "              },\n",
       "            });\n",
       "          </script>\n",
       "          "
      ],
      "text/plain": [
       "<IPython.core.display.HTML object>"
      ]
     },
     "metadata": {},
     "output_type": "display_data"
    }
   ],
   "source": [
    "def query(from_year, bigquery_full_table_name):\n",
    "    q = \"\"\"\n",
    "    SELECT entities FROM\n",
    "    (\n",
    "  (\n",
    "  SELECT\n",
    "        LOWER(\n",
    "          REGEXP_REPLACE(\n",
    "            ARRAY_TO_STRING(SPLIT(V2Persons,';') ,' ', ''),\n",
    "            r',.*', '')\n",
    "            ) as entities\n",
    "            , count(*) as frequency\n",
    "    FROM \n",
    "      `%s`\n",
    "    WHERE \n",
    "      DATE > %s\n",
    "    GROUP BY entities\n",
    "    HAVING frequency >= 100\n",
    "  )  \n",
    "  UNION ALL\n",
    "  (\n",
    "    SELECT\n",
    "        LOWER(\n",
    "          REGEXP_REPLACE(\n",
    "            ARRAY_TO_STRING(SPLIT(V2Organizations ,';') ,' ', ''),\n",
    "            r',.*', '')\n",
    "            ) as entities\n",
    "            , count(*) as frequency\n",
    "    FROM \n",
    "      `%s`\n",
    "    WHERE \n",
    "      DATE > 2017\n",
    "    GROUP BY entities\n",
    "    HAVING frequency >= 100\n",
    "    )\n",
    "  )\n",
    "WHERE entities IS NOT NULL\n",
    "GROUP BY entities\n",
    "\"\"\" % (from_year, bigquery_full_table_name, bigquery_full_table_name)\n",
    "    return q"
   ]
  },
  {
   "cell_type": "code",
   "execution_count": 23,
   "metadata": {
    "collapsed": false
   },
   "outputs": [
    {
     "data": {
      "text/html": [
       "\n",
       "          <script src=\"/static/components/requirejs/require.js\"></script>\n",
       "          <script>\n",
       "            requirejs.config({\n",
       "              paths: {\n",
       "                base: '/static/base',\n",
       "              },\n",
       "            });\n",
       "          </script>\n",
       "          "
      ],
      "text/plain": [
       "<IPython.core.display.HTML object>"
      ]
     },
     "metadata": {},
     "output_type": "display_data"
    }
   ],
   "source": [
    "def risk_entities(q):\n",
    "    entities = bq.Query(q)\n",
    "    df = entities.execute(output_options=bq.QueryOutput.dataframe()).result()\n",
    "    return df"
   ]
  },
  {
   "cell_type": "markdown",
   "metadata": {},
   "source": [
    "---"
   ]
  },
  {
   "cell_type": "markdown",
   "metadata": {},
   "source": [
    "**The queries for the entities from articles associated to the global risks during 2017:**"
   ]
  },
  {
   "cell_type": "code",
   "execution_count": 21,
   "metadata": {
    "collapsed": false
   },
   "outputs": [
    {
     "data": {
      "text/html": [
       "\n",
       "          <script src=\"/static/components/requirejs/require.js\"></script>\n",
       "          <script>\n",
       "            requirejs.config({\n",
       "              paths: {\n",
       "                base: '/static/base',\n",
       "              },\n",
       "            });\n",
       "          </script>\n",
       "          "
      ],
      "text/plain": [
       "<IPython.core.display.HTML object>"
      ]
     },
     "metadata": {},
     "output_type": "display_data"
    }
   ],
   "source": [
    "queries = map(lambda table_name: query(from_year='2017', table_name), risk_tables)"
   ]
  },
  {
   "cell_type": "markdown",
   "metadata": {},
   "source": [
    "**The entities as dataframes:**"
   ]
  },
  {
   "cell_type": "code",
   "execution_count": 24,
   "metadata": {
    "collapsed": false
   },
   "outputs": [
    {
     "data": {
      "text/html": [
       "\n",
       "          <script src=\"/static/components/requirejs/require.js\"></script>\n",
       "          <script>\n",
       "            requirejs.config({\n",
       "              paths: {\n",
       "                base: '/static/base',\n",
       "              },\n",
       "            });\n",
       "          </script>\n",
       "          "
      ],
      "text/plain": [
       "<IPython.core.display.HTML object>"
      ]
     },
     "metadata": {},
     "output_type": "display_data"
    }
   ],
   "source": [
    "entity_dfs = map(risk_entities, queries)"
   ]
  },
  {
   "cell_type": "markdown",
   "metadata": {},
   "source": [
    "**converting the dataframes to sets**"
   ]
  },
  {
   "cell_type": "code",
   "execution_count": 25,
   "metadata": {
    "collapsed": false
   },
   "outputs": [
    {
     "data": {
      "text/html": [
       "\n",
       "          <script src=\"/static/components/requirejs/require.js\"></script>\n",
       "          <script>\n",
       "            requirejs.config({\n",
       "              paths: {\n",
       "                base: '/static/base',\n",
       "              },\n",
       "            });\n",
       "          </script>\n",
       "          "
      ],
      "text/plain": [
       "<IPython.core.display.HTML object>"
      ]
     },
     "metadata": {},
     "output_type": "display_data"
    }
   ],
   "source": [
    "entity_sets = map(lambda df: set(df['entities']), entity_dfs)"
   ]
  },
  {
   "cell_type": "code",
   "execution_count": 26,
   "metadata": {
    "collapsed": false
   },
   "outputs": [
    {
     "data": {
      "text/html": [
       "\n",
       "          <script src=\"/static/components/requirejs/require.js\"></script>\n",
       "          <script>\n",
       "            requirejs.config({\n",
       "              paths: {\n",
       "                base: '/static/base',\n",
       "              },\n",
       "            });\n",
       "          </script>\n",
       "          "
      ],
      "text/plain": [
       "<IPython.core.display.HTML object>"
      ]
     },
     "metadata": {},
     "output_type": "display_data"
    },
    {
     "data": {
      "text/plain": [
       "[27249,\n",
       " 25186,\n",
       " 233,\n",
       " 4985,\n",
       " 24984,\n",
       " 107575,\n",
       " 86519,\n",
       " 54398,\n",
       " 106823,\n",
       " 50273,\n",
       " 63473,\n",
       " 48373,\n",
       " 886,\n",
       " 115834,\n",
       " 84281,\n",
       " 189840,\n",
       " 9330,\n",
       " 40,\n",
       " 440,\n",
       " 8904,\n",
       " 47152,\n",
       " 87385,\n",
       " 60721,\n",
       " 79845,\n",
       " 73000,\n",
       " 4629,\n",
       " 7546,\n",
       " 2713]"
      ]
     },
     "execution_count": 26,
     "metadata": {},
     "output_type": "execute_result"
    }
   ],
   "source": [
    "[len(x) for x in entity_sets]"
   ]
  },
  {
   "cell_type": "code",
   "execution_count": 38,
   "metadata": {
    "collapsed": false
   },
   "outputs": [
    {
     "data": {
      "text/html": [
       "\n",
       "          <script src=\"/static/components/requirejs/require.js\"></script>\n",
       "          <script>\n",
       "            requirejs.config({\n",
       "              paths: {\n",
       "                base: '/static/base',\n",
       "              },\n",
       "            });\n",
       "          </script>\n",
       "          "
      ],
      "text/plain": [
       "<IPython.core.display.HTML object>"
      ]
     },
     "metadata": {},
     "output_type": "display_data"
    },
    {
     "data": {
      "text/plain": [
       "143"
      ]
     },
     "execution_count": 38,
     "metadata": {},
     "output_type": "execute_result"
    }
   ],
   "source": [
    "len(entity_sets[0].intersection(entity_sets[2]))"
   ]
  },
  {
   "cell_type": "markdown",
   "metadata": {
    "collapsed": false
   },
   "source": [
    "**Function to compute the Jackard coefficient [https://en.wikipedia.org/wiki/Jaccard_index]:**"
   ]
  },
  {
   "cell_type": "code",
   "execution_count": 62,
   "metadata": {
    "collapsed": false
   },
   "outputs": [
    {
     "data": {
      "text/html": [
       "\n",
       "          <script src=\"/static/components/requirejs/require.js\"></script>\n",
       "          <script>\n",
       "            requirejs.config({\n",
       "              paths: {\n",
       "                base: '/static/base',\n",
       "              },\n",
       "            });\n",
       "          </script>\n",
       "          "
      ],
      "text/plain": [
       "<IPython.core.display.HTML object>"
      ]
     },
     "metadata": {},
     "output_type": "display_data"
    }
   ],
   "source": [
    "def jackard((a_idx, b_idx), entity_sets):\n",
    "    a = entity_sets[a_idx]\n",
    "    b = entity_sets[b_idx]\n",
    "    return float(len(a.intersection(b)))/float(len(a.union(b)))"
   ]
  },
  {
   "cell_type": "markdown",
   "metadata": {},
   "source": [
    "---"
   ]
  },
  {
   "cell_type": "markdown",
   "metadata": {},
   "source": [
    "### Cmputing the interconnection weight between pairs of global risks:"
   ]
  },
  {
   "cell_type": "code",
   "execution_count": 72,
   "metadata": {
    "collapsed": false
   },
   "outputs": [
    {
     "data": {
      "text/html": [
       "\n",
       "          <script src=\"/static/components/requirejs/require.js\"></script>\n",
       "          <script>\n",
       "            requirejs.config({\n",
       "              paths: {\n",
       "                base: '/static/base',\n",
       "              },\n",
       "            });\n",
       "          </script>\n",
       "          "
      ],
      "text/plain": [
       "<IPython.core.display.HTML object>"
      ]
     },
     "metadata": {},
     "output_type": "display_data"
    }
   ],
   "source": [
    "range_entities = range(len(entity_sets))"
   ]
  },
  {
   "cell_type": "code",
   "execution_count": 79,
   "metadata": {
    "collapsed": false
   },
   "outputs": [
    {
     "data": {
      "text/html": [
       "\n",
       "          <script src=\"/static/components/requirejs/require.js\"></script>\n",
       "          <script>\n",
       "            requirejs.config({\n",
       "              paths: {\n",
       "                base: '/static/base',\n",
       "              },\n",
       "            });\n",
       "          </script>\n",
       "          "
      ],
      "text/plain": [
       "<IPython.core.display.HTML object>"
      ]
     },
     "metadata": {},
     "output_type": "display_data"
    },
    {
     "data": {
      "text/plain": [
       "28"
      ]
     },
     "execution_count": 79,
     "metadata": {},
     "output_type": "execute_result"
    }
   ],
   "source": [
    "len(range_entities)"
   ]
  },
  {
   "cell_type": "code",
   "execution_count": 76,
   "metadata": {
    "collapsed": false
   },
   "outputs": [
    {
     "data": {
      "text/html": [
       "\n",
       "          <script src=\"/static/components/requirejs/require.js\"></script>\n",
       "          <script>\n",
       "            requirejs.config({\n",
       "              paths: {\n",
       "                base: '/static/base',\n",
       "              },\n",
       "            });\n",
       "          </script>\n",
       "          "
      ],
      "text/plain": [
       "<IPython.core.display.HTML object>"
      ]
     },
     "metadata": {},
     "output_type": "display_data"
    }
   ],
   "source": [
    "pairs = []\n",
    "for i in range_entities:\n",
    "    for j in range_entities:\n",
    "        if i < j:\n",
    "            pairs.append((i, j))"
   ]
  },
  {
   "cell_type": "code",
   "execution_count": 78,
   "metadata": {
    "collapsed": false
   },
   "outputs": [
    {
     "data": {
      "text/html": [
       "\n",
       "          <script src=\"/static/components/requirejs/require.js\"></script>\n",
       "          <script>\n",
       "            requirejs.config({\n",
       "              paths: {\n",
       "                base: '/static/base',\n",
       "              },\n",
       "            });\n",
       "          </script>\n",
       "          "
      ],
      "text/plain": [
       "<IPython.core.display.HTML object>"
      ]
     },
     "metadata": {},
     "output_type": "display_data"
    },
    {
     "data": {
      "text/plain": [
       "378"
      ]
     },
     "execution_count": 78,
     "metadata": {},
     "output_type": "execute_result"
    }
   ],
   "source": [
    "# number of pairs: (len(range_entities) * (len(range_entities) - 1)) / 2 = 28 * 27 / 2 = 378\n",
    "len(pairs)"
   ]
  },
  {
   "cell_type": "code",
   "execution_count": 80,
   "metadata": {
    "collapsed": false
   },
   "outputs": [
    {
     "data": {
      "text/html": [
       "\n",
       "          <script src=\"/static/components/requirejs/require.js\"></script>\n",
       "          <script>\n",
       "            requirejs.config({\n",
       "              paths: {\n",
       "                base: '/static/base',\n",
       "              },\n",
       "            });\n",
       "          </script>\n",
       "          "
      ],
      "text/plain": [
       "<IPython.core.display.HTML object>"
      ]
     },
     "metadata": {},
     "output_type": "display_data"
    }
   ],
   "source": [
    "pairwise_weights = map(lambda pair: (pair, jackard(pair, entity_sets)), pairs)"
   ]
  },
  {
   "cell_type": "code",
   "execution_count": 81,
   "metadata": {
    "collapsed": false
   },
   "outputs": [
    {
     "data": {
      "text/html": [
       "\n",
       "          <script src=\"/static/components/requirejs/require.js\"></script>\n",
       "          <script>\n",
       "            requirejs.config({\n",
       "              paths: {\n",
       "                base: '/static/base',\n",
       "              },\n",
       "            });\n",
       "          </script>\n",
       "          "
      ],
      "text/plain": [
       "<IPython.core.display.HTML object>"
      ]
     },
     "metadata": {},
     "output_type": "display_data"
    },
    {
     "data": {
      "text/plain": [
       "[((0, 1), 0.9162738003873844),\n",
       " ((0, 2), 0.005230622919638612),\n",
       " ((0, 3), 0.06812910066936179),\n",
       " ((0, 4), 0.9168776835847187),\n",
       " ((0, 5), 0.1947504142777389),\n",
       " ((0, 6), 0.228304290557319),\n",
       " ((0, 7), 0.2639637129234008),\n",
       " ((0, 8), 0.22228097365302216),\n",
       " ((0, 9), 0.21114878060212164),\n",
       " ((0, 10), 0.2056880855870822)]"
      ]
     },
     "execution_count": 81,
     "metadata": {},
     "output_type": "execute_result"
    }
   ],
   "source": [
    "pairwise_weights[0:10]"
   ]
  },
  {
   "cell_type": "markdown",
   "metadata": {
    "collapsed": true
   },
   "source": [
    "### The necessary output is then saved to the following files:\n",
    "\n",
    "* entity_sets.txt\n",
    "* indexed_risk_tables.txt\n",
    "* pairwise_weights.txt\n",
    "\n",
    "### availabe at:\n",
    "\n",
    "https://github.com/libre-ai/minerva/tree/master/data"
   ]
  },
  {
   "cell_type": "markdown",
   "metadata": {},
   "source": []
  }
 ],
 "metadata": {
  "kernelspec": {
   "display_name": "Python 2",
   "language": "python",
   "name": "python2"
  },
  "language_info": {
   "codemirror_mode": {
    "name": "ipython",
    "version": 2
   },
   "file_extension": ".py",
   "mimetype": "text/x-python",
   "name": "python",
   "nbconvert_exporter": "python",
   "pygments_lexer": "ipython2",
   "version": "2.7.12"
  }
 },
 "nbformat": 4,
 "nbformat_minor": 2
}
